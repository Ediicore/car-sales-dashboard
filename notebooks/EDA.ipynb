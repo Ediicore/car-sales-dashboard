{
 "cells": [
  {
   "cell_type": "markdown",
   "metadata": {},
   "source": [
    "# Análisis Exploratorio - Vehículos Usados\n",
    "## Dataset: vehicles_us.csv"
   ]
  },
  {
   "cell_type": "code",
   "execution_count": null,
   "metadata": {},
   "outputs": [],
   "source": [
    "# Importar librerías\n",
    "import pandas as pd\n",
    "import numpy as np\n",
    "import matplotlib.pyplot as plt\n",
    "import seaborn as sns\n",
    "import plotly.express as px\n",
    "\n",
    "# Configuración\n",
    "plt.style.use('ggplot')\n",
    "pd.set_option('display.max_columns', None)\n",
    "%matplotlib inline"
   ]
  },
  {
   "cell_type": "code",
   "execution_count": null,
   "metadata": {},
   "outputs": [],
   "source": [
    "# Cargar datos\n",
    "df = pd.read_csv('data/vehicles_us.csv')\n",
    "print(f\"Dataset shape: {df.shape}\")\n",
    "df.head()"
   ]
  },
  {
   "cell_type": "code",
   "execution_count": null,
   "metadata": {},
   "outputs": [],
   "source": [
    "# Información del dataset\n",
    "print(\"\\n=== INFORMACIÓN DEL DATASET ===\")\n",
    "df.info()\n",
    "\n",
    "print(\"\\n=== VALORES NULOS ===\")\n",
    "print(df.isnull().sum())\n",
    "\n",
    "print(\"\\n=== ESTADÍSTICAS DESCRIPTIVAS ===\")\n",
    "df.describe()"
   ]
  },
  {
   "cell_type": "code",
   "execution_count": null,
   "metadata": {},
   "outputs": [],
   "source": [
    "# Análisis de precios\n",
    "plt.figure(figsize=(10, 6))\n",
    "plt.hist(df['price'], bins=20, alpha=0.7, color='skyblue', edgecolor='black')\n",
    "plt.title('Distribución de Precios de Vehículos')\n",
    "plt.xlabel('Precio ($)')\n",
    "plt.ylabel('Frecuencia')\n",
    "plt.grid(True, alpha=0.3)\n",
    "plt.show()"
   ]
  },
  {
   "cell_type": "code",
   "execution_count": null,
   "metadata": {},
   "outputs": [],
   "source": [
    "# Precio por modelo\n",
    "plt.figure(figsize=(12, 6))\n",
    "df.groupby('model')['price'].mean().sort_values(ascending=False).plot(kind='bar', color='orange')\n",
    "plt.title('Precio Promedio por Modelo')\n",
    "plt.xlabel('Modelo')\n",
    "plt.ylabel('Precio Promedio ($)')\n",
    "plt.xticks(rotation=45)\n",
    "plt.grid(True, alpha=0.3)\n",
    "plt.tight_layout()\n",
    "plt.show()"
   ]
  },
  {
   "cell_type": "code",
   "execution_count": null,
   "metadata": {},
   "outputs": [],
   "source": [
    "# Correlaciones\n",
    "numeric_cols = df.select_dtypes(include=[np.number]).columns\n",
    "if len(numeric_cols) > 1:\n",
    "    plt.figure(figsize=(10, 8))\n",
    "    sns.heatmap(df[numeric_cols].corr(), annot=True, cmap='coolwarm', center=0)\n",
    "    plt.title('Matriz de Correlación')\n",
    "    plt.tight_layout()\n",
    "    plt.show()"
   ]
  },
  {
   "cell_type": "markdown",
   "metadata": {},
   "source": [
    "## Conclusiones del EDA\n",
    "\n",
    "1. **Distribución de precios**: [Tus observaciones]\n",
    "2. **Modelos más costosos**: [Tus observaciones] \n",
    "3. **Relaciones entre variables**: [Tus observaciones]\n",
    "4. **Valores nulos**: [Tus observaciones]\n",
    "5. **Recomendaciones para el dashboard**: [Tus observaciones]"
   ]
  }
 ],
 "metadata": {
  "kernelspec": {
   "display_name": "Python 3 (ipykernel)",
   "language": "python",
   "name": "python3"
  },
  "language_info": {
   "name": "python"
  }
 },
 "nbformat": 4,
 "nbformat_minor": 4
}
